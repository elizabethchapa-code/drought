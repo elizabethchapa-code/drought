{
 "cells": [
  {
   "cell_type": "markdown",
   "id": "ea837895",
   "metadata": {},
   "source": [
    "# Libraries &#x1F4DA;"
   ]
  },
  {
   "cell_type": "markdown",
   "id": "01998a09",
   "metadata": {},
   "source": [
    "Let's import the python libraries we need to do our analysis."
   ]
  },
  {
   "cell_type": "markdown",
   "id": "d1c12748",
   "metadata": {},
   "source": [
    "To make things more convenient, we can shorten the name of the python library we're importing by defining them with `as`."
   ]
  },
  {
   "cell_type": "code",
   "execution_count": null,
   "id": "e93b8176",
   "metadata": {},
   "outputs": [],
   "source": [
    "# Library for handling multi-dimensional data (lat, lon, time, etc.)\n",
    "import xarray as xr\n",
    "# Library for general handling of arrays\n",
    "import numpy as np\n",
    "# Library for handling cartographic projections\n",
    "import cartopy.crs as ccrs"
   ]
  },
  {
   "cell_type": "markdown",
   "id": "97224a4a",
   "metadata": {},
   "source": [
    "# Section 1: Xarray introduction (open netcdf files, subsetting, simple plotting)"
   ]
  },
  {
   "cell_type": "markdown",
   "id": "1e32da1a",
   "metadata": {},
   "source": [
    "The Standardized Precipitation Index (SPI) is a measure of how dry a region is based on the meteorological data of precipitation. Let's learn how to open a netCDF file containing precipitation data so that, at one point, we can calculate SPI. We have precipitation data from the [Norwegian Earth System Model](https://gmd.copernicus.org/articles/special_issue20.html) developed by the Norwegian Climate Center. The data is produced from the second version of the model with low-resolution for atmosphere-land and medium-resolution for ocean-sea ice, this model version is called [NorESM2-LM](https://gmd.copernicus.org/articles/13/6165/2020/gmd-13-6165-2020.html). This version of the model is part of the suite of climate models used to see the effect of rapid reduction in anthropogenic aerosol emissions in the [Regional Aerosol Model Intercomparison Project](https://gmd.copernicus.org/articles/16/4451/2023/gmd-16-4451-2023.html) (RAMIP)."
   ]
  },
  {
   "cell_type": "markdown",
   "id": "f943f0ac",
   "metadata": {},
   "source": [
    "The data is stored in this directory: `/home/persad_research/SIMULATION_DATA/DATA/RAMIP/NorESM2-LM/historical/r1i1p1f1/atm/day/pr/` and the netCDF file name is: `pr_day_NorESM2-LM_historical_r1i1p1f1_gn_all.nc`"
   ]
  },
  {
   "cell_type": "markdown",
   "id": "f8939166",
   "metadata": {},
   "source": [
    "To open a netCDF using xarray, we can use the `open_dataset()` function from the xarray library which we have defined as `xr` in this notebook."
   ]
  },
  {
   "cell_type": "code",
   "execution_count": null,
   "id": "688c9ec6",
   "metadata": {},
   "outputs": [],
   "source": [
    "data_noresm2 = xr.open_dataset('/home/persad_research/SIMULATION_DATA/DATA/RAMIP/NorESM2-LM/historical/r1i1p1f1/atm/day/pr/pr_day_NorESM2-LM_historical_r1i1p1f1_gn_all.nc')\n",
    "data_noresm2"
   ]
  },
  {
   "cell_type": "markdown",
   "id": "2b2fc874",
   "metadata": {},
   "source": [
    "We have opened the netCDF file and the data is read in as an xarray Dataset as shown in the upper left side corner. We gave the xarray Dataset a name and it is called `data_noresm2`. By typing the name in the code block afterwards, we can show how the data looks like. An xarray Dataset contains multiple data variables (time_bnds, lat_bnds, lon_bnds, and pr). In this case, we just need the precipitation data which is named `pr` following the [naming convention](https://clipc-services.ceda.ac.uk/dreq/mipVars.html) from the sixth [Coupled Model Intercomparison Project (CMIP6)](https://www.carbonbrief.org/cmip6-the-next-generation-of-climate-models-explained/)."
   ]
  },
  {
   "cell_type": "markdown",
   "id": "88cad639",
   "metadata": {},
   "source": [
    "Let's take only precipitation data from the xarray Dataset and create an xarray DataArray called `pr_noresm2`. An xarray DataArray only has one variable unlike an xarray Dataset."
   ]
  },
  {
   "cell_type": "code",
   "execution_count": null,
   "id": "df1b7dc4",
   "metadata": {},
   "outputs": [],
   "source": [
    "pr_noresm2 = data_noresm2['pr']\n",
    "pr_noresm2"
   ]
  },
  {
   "cell_type": "markdown",
   "id": "c10ce7d5",
   "metadata": {},
   "source": [
    "We focus on the dimensions (time, lat, lon) after selecting the variable of interest so that we are not paying attention to dimensions that are not relevant to the variable we are focusing on. Typically, we also immediately indicate the variable of focus while reading the file. Hence we could have done `pr_noresm2 = xr.open_dataset('/home/persad_research/SIMULATION_DATA/DATA/RAMIP/NorESM2-LM/historical/r1i1p1f1/atm/day/pr/pr_day_NorESM2-LM_historical_r1i1p1f1_gn_all.nc')['pr']` and gotten the same result."
   ]
  },
  {
   "cell_type": "markdown",
   "id": "f5089d11",
   "metadata": {},
   "source": [
    "Let's take only a subset of the data by selecting only the region within the East Asian latitude and longitude boundaries defined in RAMIP. We define the latitude and longitude boundaries in the following code block."
   ]
  },
  {
   "cell_type": "code",
   "execution_count": null,
   "id": "4b0ad3e4",
   "metadata": {},
   "outputs": [],
   "source": [
    "lat_bot_eas = 20\n",
    "lat_top_eas = 53\n",
    "lon_west_eas = 95\n",
    "lon_east_eas = 133"
   ]
  },
  {
   "cell_type": "markdown",
   "id": "193c101f",
   "metadata": {},
   "source": [
    "There are multiple ways to subset an xarray DataArray, we can use the functions: (1) `.sel()` if we want to indicate the coordinate *value* when taking the subset, (2) `.isel()` if we want to indicate the *index* when taking the subset, or (3) alternatively do a [NumPy](https://numpy.org/doc/2.1/user/basics.indexing.html)-like selection."
   ]
  },
  {
   "cell_type": "markdown",
   "id": "e14802fb",
   "metadata": {},
   "source": [
    "Since we have the latitude and longitude *values*, we can use `.sel()` to subset the data. Here we provide *slices* of latitude and longitude which indicates the boundaries of the data we are taking."
   ]
  },
  {
   "cell_type": "code",
   "execution_count": null,
   "id": "37ac958c",
   "metadata": {},
   "outputs": [],
   "source": [
    "pr_noresm2_eas = pr_noresm2.sel(lat=slice(lat_bot_eas, lat_top_eas), lon=slice(lon_west_eas, lon_east_eas))\n",
    "pr_noresm2_eas"
   ]
  },
  {
   "cell_type": "markdown",
   "id": "6a25e000",
   "metadata": {},
   "source": [
    "Let's try plotting a map of global precipitation and East Asian precipitation! But remember, since a map is a 2D representation of the data, we can only map data that has exclusively the lat and lon dimensions. So, here we'll select only data from the *first* day. Since we know the *index* of the time dimension, we can use `.isel()`. Note that xarray indexing uses the convention that the *first* data is indexed as *zero*!"
   ]
  },
  {
   "cell_type": "code",
   "execution_count": null,
   "id": "f99af35f",
   "metadata": {},
   "outputs": [],
   "source": [
    "pr_noresm2_first_day = pr_noresm2.isel(time=0)\n",
    "pr_noresm2_eas_first_day = pr_noresm2_eas.isel(time=0)"
   ]
  },
  {
   "cell_type": "markdown",
   "id": "7c05865d",
   "metadata": {},
   "source": [
    "Here's what the first day of global precipitation looks like."
   ]
  },
  {
   "cell_type": "code",
   "execution_count": null,
   "id": "07b484d3",
   "metadata": {},
   "outputs": [],
   "source": [
    "pr_noresm2_first_day.plot()"
   ]
  },
  {
   "cell_type": "markdown",
   "id": "abc561f2",
   "metadata": {},
   "source": [
    "You can see that we have this printed out: `<matplotlib.collections.QuadMesh at 0x7ef856b554c0>`, to indicate that we don't want to see that we can add a semicolon at the end of `.plot()` for the next map we'll make. Here's what the first day of East Asian precipitation looks like."
   ]
  },
  {
   "cell_type": "code",
   "execution_count": null,
   "id": "f9438372",
   "metadata": {},
   "outputs": [],
   "source": [
    "pr_noresm2_eas_first_day.plot();"
   ]
  },
  {
   "cell_type": "markdown",
   "id": "3d2d7429",
   "metadata": {},
   "source": [
    "We can also make a timeseries of daily precipitation for only one lat/lon coordinate in East Asia. Let's select the first lat/lon coordinate in East Asia. But before that let's check what lat and lon values that would be associated with."
   ]
  },
  {
   "cell_type": "code",
   "execution_count": null,
   "id": "c1ebfee0",
   "metadata": {},
   "outputs": [],
   "source": [
    "pr_noresm2_eas.lat"
   ]
  },
  {
   "cell_type": "code",
   "execution_count": null,
   "id": "2933078d",
   "metadata": {},
   "outputs": [],
   "source": [
    "pr_noresm2_eas.lon"
   ]
  },
  {
   "cell_type": "markdown",
   "id": "e7723319",
   "metadata": {},
   "source": [
    "The first latitude in our model data that is within the East Asian boundary we provided is 21.79N while the first longitude is 95E. Note that we have displayed *xarray DataArrays* of the latitude and longitudes. If you only want a *Numpy array* of the latitude and longitudes, you need to do `.values` at the end. The following is an example of how you could get a *Numpy array* of the longitude coordinates from our model that is within East Asia."
   ]
  },
  {
   "cell_type": "code",
   "execution_count": null,
   "id": "14eab2ca",
   "metadata": {},
   "outputs": [],
   "source": [
    "pr_noresm2_eas.lon.values"
   ]
  },
  {
   "cell_type": "markdown",
   "id": "8a843e2e",
   "metadata": {},
   "source": [
    "Knowing how to get *numeric values* from a Numpy array will prove to be valuable in the future (say putting the value into [f-strings](https://www.w3schools.com/python/python_string_formatting.asp)). For example, if we want to take the first longitude value from the Numpy array, we could indicate the index and do `.item()`."
   ]
  },
  {
   "cell_type": "code",
   "execution_count": null,
   "id": "2c8db281",
   "metadata": {},
   "outputs": [],
   "source": [
    "pr_noresm2_eas.lon.values[0].item()"
   ]
  },
  {
   "cell_type": "markdown",
   "id": "61c042d7",
   "metadata": {},
   "source": [
    "Finally, here's the timeseries of precipitation at the first latitude and longitude (south and westernmost point) of our data within the East Asian boundary. "
   ]
  },
  {
   "cell_type": "code",
   "execution_count": null,
   "id": "c7e0a563",
   "metadata": {},
   "outputs": [],
   "source": [
    "pr_noresm2_eas.isel(lat=0, lon=0).plot();"
   ]
  },
  {
   "cell_type": "markdown",
   "id": "89cb26ca",
   "metadata": {},
   "source": [
    "Awesome! In this section we learned:\n",
    "- How to open a netCDF file using xarray.\n",
    "- How to subset data using `.sel()` and `.isel()`.\n",
    "- How to make simple plots using `.plot()`."
   ]
  },
  {
   "cell_type": "markdown",
   "id": "c7f00248",
   "metadata": {},
   "source": [
    "# Section 2: Computations and masks with xarray"
   ]
  },
  {
   "cell_type": "markdown",
   "id": "88e5a46f",
   "metadata": {},
   "source": [
    "From section 1, we see that when we display the xarray DataArray `pr_noresm2_eas`, the units for precipitations is $\\text{kg m}^{-2}\\,\\text{s}^{-1}$\n",
    "1 (mass flux). Let's convert that into a more oftenly used units of precipitation, $\\text{mm day}^{-1}$. To do that, we need to multiply our values by 86400."
   ]
  },
  {
   "cell_type": "code",
   "execution_count": null,
   "id": "3924ccc0",
   "metadata": {},
   "outputs": [],
   "source": [
    "pr_noresm2_eas_mm_day = pr_noresm2_eas * 86400\n",
    "pr_noresm2_eas_mm_day"
   ]
  },
  {
   "cell_type": "markdown",
   "id": "d46f5a1a",
   "metadata": {},
   "source": [
    "Notice that after we've applied our conversion we don't have the attributes of `pr_noresm2_eas` anymore. This happens after every computation. In the case you needed to save the result of the computation to a netCDF file, it is best practice to indicate information about the data under attributes. You can do that by doing the following."
   ]
  },
  {
   "cell_type": "code",
   "execution_count": null,
   "id": "9d636e36",
   "metadata": {},
   "outputs": [],
   "source": [
    "pr_noresm2_eas_mm_day.attrs[\"units\"] = \"mm day-1\""
   ]
  },
  {
   "cell_type": "code",
   "execution_count": null,
   "id": "b90c9d64",
   "metadata": {},
   "outputs": [],
   "source": [
    "pr_noresm2_eas_mm_day"
   ]
  },
  {
   "cell_type": "markdown",
   "id": "1c5eaf3b",
   "metadata": {},
   "source": [
    "Now you've added the units of the data under attributes. For reference, units would be called the attribute \"key\" and mm day-1 would be called the attribute \"value\". You can provide other attributes as well if you wanted. You do not need to add attributes after doing every calculation as that will be time consuming but note that it will be useful whenever you want to save the data."
   ]
  },
  {
   "cell_type": "markdown",
   "id": "75e814c4",
   "metadata": {},
   "source": [
    "What if you wanted to know the average rate of precipitation across East Asia throughout the period that we have data for? We need to take the (1) spatial and (2) temporal average of `pr_noresm2_mm_day`."
   ]
  },
  {
   "cell_type": "markdown",
   "id": "242034ba",
   "metadata": {},
   "source": [
    "To take the spatial mean, we need to take into account how a one-degree longitude spacing near the equator is ~111 km but would get closer to zero as we get nearer to the poles. Hence, we do a weighted spatial mean. To make things easier for us, we define a new function called `weighted_spatial_mean()` that takes into account our data and returns the latitudinally-weighted spatial mean."
   ]
  },
  {
   "cell_type": "code",
   "execution_count": null,
   "id": "135ae899",
   "metadata": {},
   "outputs": [],
   "source": [
    "def weighted_spatial_mean(data):\n",
    "    # ref: https://docs.xarray.dev/en/latest/examples/area_weighted_temperature.html\n",
    "\n",
    "    # assign weights depending on latitude\n",
    "    weights = np.cos(np.deg2rad(data.lat))\n",
    "    # give the weights a name\n",
    "    weights.name = \"weights\"\n",
    "    # let the data know about the weights\n",
    "    data_weighted = data.weighted(weights)\n",
    "    # take the weighted spatial mean\n",
    "    data_weighted_mean = data_weighted.mean((\"lon\", \"lat\"))\n",
    "    return data_weighted_mean"
   ]
  },
  {
   "cell_type": "markdown",
   "id": "d81052e6",
   "metadata": {},
   "source": [
    "Let's now take the spatial and temporal average of `pr_noresm2_mm_day` to know how much rain East Asia gets per day (on average) throughout the period we have data for. We can print the results in a neat way using Python's f-string formatting. Note how we use `.values` and specified how many digits we want to display after the decimal point."
   ]
  },
  {
   "cell_type": "code",
   "execution_count": null,
   "id": "bc7fc12d",
   "metadata": {},
   "outputs": [],
   "source": [
    "pr_noresm2_eas_mm_day_weighted_mean = weighted_spatial_mean(pr_noresm2_eas_mm_day).mean('time')\n",
    "print(f\"The average precipitation in East Asia is {pr_noresm2_eas_mm_day_weighted_mean.values:.2f} mm/day\")"
   ]
  },
  {
   "cell_type": "markdown",
   "id": "b8c8f2fa",
   "metadata": {},
   "source": [
    "Let's take a look at the climatology of East Asian precipitation. We can do that by grouping all the days that correspond to a certain month (\"split\" into 12 groups, one for each month) and taking the means for each month (\"apply\" a monthly average calculation and \"combine\" the monthly averages into a single DataArray again)."
   ]
  },
  {
   "cell_type": "code",
   "execution_count": null,
   "id": "38caf8b3",
   "metadata": {},
   "outputs": [],
   "source": [
    "# Take the weighted spatial mean first, group by month, and then take the monthly means\n",
    "pr_noresm2_eas_mm_day_climatology = weighted_spatial_mean(pr_noresm2_eas_mm_day).groupby('time.month').mean()\n",
    "pr_noresm2_eas_mm_day_climatology\n"
   ]
  },
  {
   "cell_type": "markdown",
   "id": "2eacc1ad",
   "metadata": {},
   "source": [
    "Now let's plot the climatology of East Asian precipitation!"
   ]
  },
  {
   "cell_type": "code",
   "execution_count": null,
   "id": "b1d15c0b",
   "metadata": {},
   "outputs": [],
   "source": [
    "pr_noresm2_eas_mm_day_climatology.plot();"
   ]
  },
  {
   "cell_type": "markdown",
   "id": "9529a24d",
   "metadata": {},
   "source": [
    "Now let's try masking our data. This means selectively processing our data based on a set of criteria. The default behavior of the function we use to do masking, `.where` is to make values that don't meet our criteria to be 'nan' which stands for 'not a number'. Here we mask `pr_noresm2_eas_mm_day` so that we get a new variable that only has values (numbers) of precipitation above 1 $\\text{mm day}^{-1}$ and below 2 $\\text{mm day}^{-1}$."
   ]
  },
  {
   "cell_type": "code",
   "execution_count": null,
   "id": "181dd1a6",
   "metadata": {},
   "outputs": [],
   "source": [
    "pr_noresm2_eas_mm_day_masked = pr_noresm2_eas_mm_day.where((pr_noresm2_eas_mm_day > 1) & (pr_noresm2_eas_mm_day < 2))"
   ]
  },
  {
   "cell_type": "markdown",
   "id": "be30b1f4",
   "metadata": {},
   "source": [
    "Now let's plot the first day of our masked data."
   ]
  },
  {
   "cell_type": "code",
   "execution_count": null,
   "id": "720b097a",
   "metadata": {},
   "outputs": [],
   "source": [
    "pr_noresm2_eas_mm_day_masked.isel(time=0).plot();"
   ]
  },
  {
   "cell_type": "markdown",
   "id": "feb7ec87",
   "metadata": {},
   "source": [
    "Remember that we can have different places that meet our criteria on different days within East Asia. Here's what the masked precipitation map looks like on the second day."
   ]
  },
  {
   "cell_type": "code",
   "execution_count": null,
   "id": "5184684a",
   "metadata": {},
   "outputs": [],
   "source": [
    "pr_noresm2_eas_mm_day_masked.isel(time=1).plot();"
   ]
  },
  {
   "cell_type": "markdown",
   "id": "f0f7d928",
   "metadata": {},
   "source": [
    "Awesome! In this section we learned:\n",
    "- How to aggregate your data. In this example we learned how to take the `.mean()`, but we can also take the `.sum()`, `.median()`, `.min()`, and `.max()`.\n",
    "- How to use `.groupby()` to \"split\", \"apply\", and \"combine\" our data. In this example we used it to get the climatology of East Asian precipitation.\n",
    "- How to mask data using `.where()`."
   ]
  },
  {
   "cell_type": "markdown",
   "id": "006accfb",
   "metadata": {},
   "source": [
    "# Practice"
   ]
  },
  {
   "cell_type": "markdown",
   "id": "4c79ef3f",
   "metadata": {},
   "source": [
    "Let's practice making a prettier map using `pr_noresm2_mm_day`. The following code block provides a template of how we can produce maps of a dataset. You are welcome to play around and think about the different ways you can modify the map. A couple of suggestions:\n",
    "- Try various map projections (ccrs.[Robinson](https://www.reddit.com/r/Maps/comments/1rxkhi/why_did_national_geographic_switch_from_robinson/), ccrs.[Mollweide](https://education.nationalgeographic.org/resource/selecting-map-projection/))\n",
    "- Try various colormaps (cmap)\n",
    "- Try various levels for the colorbar\n",
    "- Try different days or aggregate data (for example: take the mean throughout whole period, [seasonally](https://docs.xarray.dev/en/stable/examples/monthly-means.html), etc.)"
   ]
  },
  {
   "cell_type": "code",
   "execution_count": null,
   "id": "f7df0c09",
   "metadata": {},
   "outputs": [],
   "source": [
    "# Library for general plotting\n",
    "import matplotlib.pyplot as plt"
   ]
  },
  {
   "cell_type": "code",
   "execution_count": null,
   "id": "40decbcb",
   "metadata": {},
   "outputs": [],
   "source": [
    "# Convert units to mm/day\n",
    "pr_noresm2_mm_day = pr_noresm2 * 86400"
   ]
  },
  {
   "cell_type": "code",
   "execution_count": null,
   "id": "e85bc611",
   "metadata": {},
   "outputs": [],
   "source": [
    "# Indicate data to visualize\n",
    "data = pr_noresm2_mm_day.isel(time=0)\n",
    "\n",
    "# Create map\n",
    "fig = plt.figure(figsize=[10,7.5])\n",
    "ax = fig.add_subplot(111,projection=ccrs.PlateCarree(central_longitude=180))\n",
    "data.plot.contourf(ax=ax,\n",
    "                   transform=ccrs.PlateCarree(),\n",
    "                   levels=np.linspace(0,10,11),\n",
    "                   cmap='BuGn',\n",
    "                   cbar_kwargs={\"label\":'mm/day', \"orientation\": 'horizontal', \"pad\": 0.05})\n",
    "ax.coastlines()\n",
    "\n",
    "# Show figure\n",
    "ax.set_title(\"Precipitation\")\n",
    "plt.show()"
   ]
  },
  {
   "cell_type": "code",
   "execution_count": null,
   "id": "f91e6740",
   "metadata": {},
   "outputs": [],
   "source": []
  }
 ],
 "metadata": {
  "kernelspec": {
   "display_name": "lab",
   "language": "python",
   "name": "python3"
  },
  "language_info": {
   "codemirror_mode": {
    "name": "ipython",
    "version": 3
   },
   "file_extension": ".py",
   "mimetype": "text/x-python",
   "name": "python",
   "nbconvert_exporter": "python",
   "pygments_lexer": "ipython3",
   "version": "3.12.7"
  }
 },
 "nbformat": 4,
 "nbformat_minor": 5
}
